{
 "cells": [
  {
   "cell_type": "code",
   "execution_count": 14,
   "metadata": {},
   "outputs": [],
   "source": [
    "%matplotlib inline\n",
    "\n",
    "import gym\n",
    "import torch\n",
    "from torch import nn\n",
    "import numpy as np\n",
    "from torch.distributions import Categorical\n",
    "import matplotlib.pyplot as plt\n",
    "from torch.utils.tensorboard import SummaryWriter"
   ]
  },
  {
   "cell_type": "markdown",
   "metadata": {},
   "source": [
    "## Create Environment using GYM"
   ]
  },
  {
   "cell_type": "code",
   "execution_count": 15,
   "metadata": {},
   "outputs": [
    {
     "name": "stdout",
     "output_type": "stream",
     "text": [
      "Env Created:\n",
      "State Size: 4\tActions Size: 2\n"
     ]
    }
   ],
   "source": [
    "env = gym.make('CartPole-v1')\n",
    "\n",
    "state_space_size = env.observation_space.shape[0]\n",
    "action_space_size = env.action_space.n\n",
    "\n",
    "print('Env Created:\\nState Size: %d\\tActions Size: %d' %(state_space_size, action_space_size))"
   ]
  },
  {
   "cell_type": "markdown",
   "metadata": {},
   "source": [
    "## Create Agent -> A simple policy network"
   ]
  },
  {
   "cell_type": "code",
   "execution_count": 23,
   "metadata": {},
   "outputs": [],
   "source": [
    "class A2CAgent(nn.Module):\n",
    "    def __init__(self, state_size, action_size, hidden_size):\n",
    "        super(A2CAgent, self).__init__()\n",
    "        \n",
    "        # craete network\n",
    "        self.policy_net = nn.Sequential(\n",
    "            nn.Linear(state_size, hidden_size),\n",
    "            nn.ReLU(),\n",
    "            nn.Linear(hidden_size, action_size),\n",
    "            nn.Softmax(dim=1)\n",
    "        )\n",
    "        \n",
    "        self.value_network = nn.Sequential(\n",
    "            nn.Linear(state_size, hidden_size),\n",
    "            nn.ReLU(),\n",
    "            nn.Linear(hidden_size, 1)\n",
    "        )\n",
    "        \n",
    "    def get_action(self, state):\n",
    "        state = torch.tensor([state])\n",
    "        \n",
    "        return Categorical(self.policy_net(state)), self.value_network(state)"
   ]
  },
  {
   "cell_type": "markdown",
   "metadata": {},
   "source": [
    "## Training part\n",
    "\n",
    "The updating process is split into two parts:\n",
    "\n",
    "(1) Update the policy network using:\n",
    "$ d_\\theta = d_\\theta + \\nabla_\\theta \\log \\pi (a_i | s_i) (R - V(s_i)) $\n",
    "\n",
    "(2) Update the value network using:\n",
    "$ d_{\\theta_v} = d_{\\theta_v} + \\frac{\\sigma (R - V(s_i))^2}{\\sigma \\theta_v}$\n",
    "\n",
    "where $R$ is the immediate reward value!"
   ]
  },
  {
   "cell_type": "code",
   "execution_count": 24,
   "metadata": {},
   "outputs": [
    {
     "name": "stdout",
     "output_type": "stream",
     "text": [
      "[450/500] Mean Reward = 192.98   Max Reward = 200\t\t\t\r"
     ]
    },
    {
     "data": {
      "image/png": "[encoded data removed]",
      "text/plain": [
       "<Figure size 432x288 with 1 Axes>"
      ]
     },
     "metadata": {
      "needs_background": "light"
     },
     "output_type": "display_data"
    }
   ],
   "source": [
    "GAMMA           = 0.99\n",
    "LR              = 0.001\n",
    "MAX_EPISODES    = 500\n",
    "TERMINAL_TIME   = 200\n",
    "\n",
    "agent = A2CAgent(state_space_size, action_space_size, 100).double()\n",
    "optimizer = torch.optim.Adam(agent.parameters(), lr=LR)\n",
    "episode_rewards = []\n",
    "\n",
    "agent.train()\n",
    "\n",
    "for episode_no in range(MAX_EPISODES):\n",
    "    rewards = []\n",
    "    action_probs = []\n",
    "    actions = []\n",
    "    state_values = []\n",
    "    \n",
    "    done = False\n",
    "    current_state = env.reset()\n",
    "    current_time = 0\n",
    "    \n",
    "    # go through an episode\n",
    "    while done != True and current_time != TERMINAL_TIME:\n",
    "        # get action\n",
    "        action_dist, state_value = agent.get_action(current_state)\n",
    "        action = action_dist.sample()\n",
    "        \n",
    "        next_state, reward, done, _ = env.step(action.item())\n",
    "        \n",
    "        # save\n",
    "        rewards.append(reward)\n",
    "        actions.append(action)\n",
    "        action_probs.append(action_dist)\n",
    "        state_values.append(state_value)\n",
    "        \n",
    "        # go next\n",
    "        current_state = next_state\n",
    "        current_time += 1\n",
    "    \n",
    "    ## update the agent after an episode or certain amount of time\n",
    "    if done:\n",
    "        R = 0\n",
    "    else:\n",
    "        R = state_value.item()\n",
    "    \n",
    "    # calculate loss value\n",
    "    for i in range(current_time - 1, -1, -1):\n",
    "        R = rewards[i] + GAMMA * R\n",
    "                \n",
    "        # update policy network\n",
    "        policy_loss = -(action_probs[i].log_prob(actions[i]) * (R - state_values[i].item()))\n",
    "        value_loss = (R - state_values[i]) ** 2\n",
    "        \n",
    "        loss = policy_loss + value_loss\n",
    "        \n",
    "        optimizer.zero_grad()\n",
    "        loss.backward()\n",
    "        optimizer.step()\n",
    "        \n",
    "    # print \n",
    "    episode_rewards.append(np.sum(rewards))\n",
    "    \n",
    "    if episode_no % 50 == 0:\n",
    "        print('[%d/%d] Mean Reward = %0.2f   Max Reward = %d\\t\\t\\t' %(episode_no, MAX_EPISODES, np.mean(episode_rewards[-50:]), np.max(episode_rewards[-50:])), end='\\r', flush=True)\n",
    "        \n",
    "# plot each episode's total reward\n",
    "plt.plot(episode_rewards)\n",
    "plt.title('Episodes Rewards')\n",
    "plt.show()"
   ]
  },
  {
   "cell_type": "markdown",
   "metadata": {},
   "source": [
    "## Test the agent"
   ]
  },
  {
   "cell_type": "code",
   "execution_count": 26,
   "metadata": {},
   "outputs": [
    {
     "name": "stdout",
     "output_type": "stream",
     "text": [
      "Total Reward = 500\n"
     ]
    }
   ],
   "source": [
    "agent.eval()\n",
    "done = False\n",
    "current_state = env.reset()\n",
    "rewards = []\n",
    "\n",
    "# go through an episode\n",
    "while not done:\n",
    "    # render env\n",
    "    env.render()\n",
    "    \n",
    "    # get BEST action based on the log probabilities -> argmax on them\n",
    "    action_dist, _ = agent.get_action(current_state)\n",
    "    log_probs = []\n",
    "    \n",
    "    for i in range(action_space_size):\n",
    "        log_probs.append(action_dist.log_prob(torch.tensor(i)).item())\n",
    "        \n",
    "    # perform action\n",
    "    next_state, reward, done, _ = env.step(np.argmax(log_probs))\n",
    "\n",
    "    rewards.append(reward)\n",
    "    \n",
    "    current_state = next_state\n",
    "    \n",
    "env.close()\n",
    "\n",
    "print('Total Reward = %d' %(np.sum(rewards)))"
   ]
  },
  {
   "cell_type": "code",
   "execution_count": 27,
   "metadata": {},
   "outputs": [
    {
     "name": "stdout",
     "output_type": "stream",
     "text": [
      "Min = 500   Max = 500   Mean = 500.00\n",
      "Solved :)\n"
     ]
    }
   ],
   "source": [
    "# benchmark!\n",
    "agent.eval()\n",
    "episode_rewards = []\n",
    "\n",
    "for i in range(100):\n",
    "    done = False\n",
    "    current_state = env.reset()\n",
    "    rewards = []\n",
    "\n",
    "    # go through an episode\n",
    "    while not done:\n",
    "        # get BEST action based on the log probabilities -> argmax on them\n",
    "        action_dist, _ = agent.get_action(current_state)\n",
    "        log_probs = []\n",
    "\n",
    "        for i in range(action_space_size):\n",
    "            log_probs.append(action_dist.log_prob(torch.tensor(i)).item())\n",
    "\n",
    "        # perform action\n",
    "        next_state, reward, done, _ = env.step(np.argmax(log_probs))\n",
    "\n",
    "        rewards.append(reward)\n",
    "\n",
    "        current_state = next_state\n",
    "\n",
    "    episode_rewards.append(np.sum(rewards))\n",
    "    \n",
    "print('Min = %d   Max = %d   Mean = %0.2f' %(np.min(episode_rewards), np.max(episode_rewards), np.mean(episode_rewards)))\n",
    "\n",
    "if np.min(episode_rewards) > 198:\n",
    "    print('Solved :)')"
   ]
  }
 ],
 "metadata": {
  "kernelspec": {
   "display_name": "Python 3",
   "language": "python",
   "name": "python3"
  },
  "language_info": {
   "codemirror_mode": {
    "name": "ipython",
    "version": 3
   },
   "file_extension": ".py",
   "mimetype": "text/x-python",
   "name": "python",
   "nbconvert_exporter": "python",
   "pygments_lexer": "ipython3",
   "version": "3.6.8"
  }
 },
 "nbformat": 4,
 "nbformat_minor": 2
}

{
 "cells": [
  {
   "cell_type": "code",
   "execution_count": 1,
   "metadata": {},
   "outputs": [],
   "source": [
    "%matplotlib inline\n",
    "\n",
    "import gym\n",
    "import torch\n",
    "from torch import nn\n",
    "import numpy as np\n",
    "from torch.distributions import Categorical\n",
    "import matplotlib.pyplot as plt"
   ]
  },
  {
   "cell_type": "markdown",
   "metadata": {},
   "source": [
    "## Create Environment using GYM"
   ]
  },
  {
   "cell_type": "code",
   "execution_count": 2,
   "metadata": {},
   "outputs": [
    {
     "name": "stdout",
     "output_type": "stream",
     "text": [
      "Env Created:\n",
      "State Size: 4\tActions Size: 2\n"
     ]
    }
   ],
   "source": [
    "env = gym.make('CartPole-v1')\n",
    "\n",
    "state_space_size = env.observation_space.shape[0]\n",
    "action_space_size = env.action_space.n\n",
    "\n",
    "print('Env Created:\\nState Size: %d\\tActions Size: %d' %(state_space_size, action_space_size))"
   ]
  },
  {
   "cell_type": "markdown",
   "metadata": {},
   "source": [
    "## Create Agent -> A simple Q network"
   ]
  },
  {
   "cell_type": "code",
   "execution_count": 79,
   "metadata": {},
   "outputs": [],
   "source": [
    "class DQNAgent(nn.Module):\n",
    "    def __init__(self, state_size, action_size, hidden_size, lr):\n",
    "        super(DQNAgent, self).__init__()\n",
    "        \n",
    "        # craete network\n",
    "        self.q_network = nn.Sequential(\n",
    "            nn.Linear(state_size, hidden_size),\n",
    "            nn.ReLU(),\n",
    "            nn.Linear(hidden_size, action_size)\n",
    "        )\n",
    "        \n",
    "        self.optimizer = torch.optim.Adam(self.q_network.parameters(), lr=lr)\n",
    "        self.mse_func = nn.MSELoss()\n",
    "        \n",
    "    def get_values(self, state):\n",
    "        '''  \n",
    "        return state,action values (expected rewards)\n",
    "        '''\n",
    "        state = torch.tensor([state])\n",
    "        \n",
    "        return self.q_network(state)\n",
    "    \n",
    "    def update_q_network(self, experiences, gamma, batch_size=32):\n",
    "        '''\n",
    "        experiences = [s, a, s', r, done]\n",
    "                       0  1  2   3    4\n",
    "        '''\n",
    "        if len(experiences) < batch_size:\n",
    "            return 0.0\n",
    "        \n",
    "        # sample mini batch from experiences (batch_size=32)\n",
    "        experiences_idx = np.random.choice(list(range(len(experiences))), batch_size)\n",
    "                \n",
    "        y_true = []\n",
    "        y_hat = []\n",
    "    \n",
    "        for exp_id in experiences_idx:\n",
    "            current_state, action, next_state, reward, done = experiences[exp_id]\n",
    "            \n",
    "            # calculate Y true\n",
    "            if done:\n",
    "                y_true.append(reward)\n",
    "            else:\n",
    "                next_q_value = self.q_network(torch.tensor([next_state]))\n",
    "                y_true.append(reward + gamma * torch.max(next_q_value).item())\n",
    "\n",
    "            # calculate Y hat\n",
    "            y_hat.append(self.q_network(torch.tensor([current_state]))[:, action])\n",
    "\n",
    "        # use simple MSE\n",
    "        for pred, targ in zip(y_hat, y_true):            \n",
    "            self.optimizer.zero_grad()\n",
    "            \n",
    "            # loss = self.mse_func(pred, targ)\n",
    "            loss = torch.pow(pred - targ, 2)\n",
    "            loss.backward()\n",
    "            \n",
    "            self.optimizer.step()\n",
    "\n",
    "        return loss.item()"
   ]
  },
  {
   "cell_type": "markdown",
   "metadata": {},
   "source": [
    "## Training part"
   ]
  },
  {
   "cell_type": "code",
   "execution_count": 140,
   "metadata": {},
   "outputs": [
    {
     "name": "stdout",
     "output_type": "stream",
     "text": [
      "[1950/2000]   Mean Reward = 371.54   Max Reward = 500    EPS = 0.141\t\t\t\r"
     ]
    },
    {
     "data": {
      "image/png": "[encoded data removed]",
      "text/plain": [
       "<Figure size 432x288 with 1 Axes>"
      ]
     },
     "metadata": {
      "needs_background": "light"
     },
     "output_type": "display_data"
    }
   ],
   "source": [
    "GAMMA           = 0.99\n",
    "LR              = 0.001\n",
    "MAX_EPISODES    = 2000\n",
    "EPSILON         = 1.0\n",
    "EPS_DECAY       = 0.992\n",
    "MAX_MEMORY_LEN  = 1000\n",
    "\n",
    "agent = DQNAgent(state_space_size, action_space_size, 100, LR).double()\n",
    "memory = []\n",
    "episode_rewards = []\n",
    "\n",
    "agent.train()\n",
    "\n",
    "for episode_no in range(MAX_EPISODES):\n",
    "    rewards = []\n",
    "    \n",
    "    done = False\n",
    "    current_state = env.reset()\n",
    "    \n",
    "    # go through an episode\n",
    "    while not done:\n",
    "        # get action\n",
    "        q_values = agent.get_values(current_state)\n",
    "        \n",
    "        # select an action using e-greedy\n",
    "        if np.random.random(1)[0] < EPSILON:\n",
    "            action = np.random.randint(action_space_size)\n",
    "        else:\n",
    "            action = torch.argmax(q_values).item()\n",
    "        \n",
    "        # perform action\n",
    "        next_state, reward, done, _ = env.step(action)\n",
    "        rewards.append(reward)\n",
    "        reward = reward if not done else -reward\n",
    "        \n",
    "        # save experience in memory\n",
    "        if len(memory) < MAX_EPISODES:\n",
    "            memory.append((\n",
    "                current_state, action, next_state, reward, done\n",
    "            ))\n",
    "        else:\n",
    "            memory = memory[1:]\n",
    "            memory.append((\n",
    "                current_state, action, next_state, reward, done\n",
    "            ))\n",
    "        \n",
    "        # go next\n",
    "        current_state = next_state\n",
    "\n",
    "        \n",
    "    # update the agent \n",
    "    loss_value = agent.update_q_network(memory, GAMMA)\n",
    "        \n",
    "    if episode_no % 8 == 0:\n",
    "        EPSILON *= EPS_DECAY\n",
    "        EPSILON = max(EPSILON, 0.01)\n",
    "            \n",
    "    # print \n",
    "    episode_rewards.append(np.sum(rewards))\n",
    "    \n",
    "    if episode_no % 50 == 0:\n",
    "        print('[%d/%d]   Mean Reward = %0.2f   Max Reward = %d    EPS = %0.3f\\t\\t\\t' %(episode_no, MAX_EPISODES, np.mean(episode_rewards[-50:]), np.max(episode_rewards[-50:]), EPSILON), end='\\r', flush=True)\n",
    "        \n",
    "# plot each episode's total reward\n",
    "plt.plot(episode_rewards)\n",
    "plt.title('Episodes Rewards')\n",
    "plt.show()"
   ]
  },
  {
   "cell_type": "markdown",
   "metadata": {},
   "source": [
    "## Test the agent"
   ]
  },
  {
   "cell_type": "code",
   "execution_count": 141,
   "metadata": {},
   "outputs": [
    {
     "name": "stdout",
     "output_type": "stream",
     "text": [
      "Total Reward = 393\n"
     ]
    }
   ],
   "source": [
    "agent.eval()\n",
    "done = False\n",
    "current_state = env.reset()\n",
    "rewards = []\n",
    "\n",
    "# go through an episode\n",
    "while not done:\n",
    "    # render env\n",
    "    env.render()\n",
    "    \n",
    "    # get BEST action based on the log probabilities -> argmax on them\n",
    "    q_values = agent.get_values(current_state)\n",
    "    action = torch.argmax(q_values).item()\n",
    "    \n",
    "    # perform action\n",
    "    next_state, reward, done, _ = env.step(action)\n",
    "\n",
    "    rewards.append(reward)\n",
    "    \n",
    "    current_state = next_state\n",
    "    \n",
    "env.close()\n",
    "\n",
    "print('Total Reward = %d' %(np.sum(rewards)))"
   ]
  },
  {
   "cell_type": "code",
   "execution_count": 142,
   "metadata": {},
   "outputs": [
    {
     "name": "stdout",
     "output_type": "stream",
     "text": [
      "Min = 291   Max = 500   Mean = 469.62\n",
      "Solved :)\n"
     ]
    }
   ],
   "source": [
    "# benchmark!\n",
    "agent.eval()\n",
    "episode_rewards = []\n",
    "\n",
    "for i in range(100):\n",
    "    done = False\n",
    "    current_state = env.reset()\n",
    "    rewards = []\n",
    "\n",
    "    # go through an episode\n",
    "    while not done:\n",
    "        # get BEST action based on the log probabilities -> argmax on them\n",
    "        q_values = agent.get_values(current_state)\n",
    "        action = torch.argmax(q_values).item()\n",
    "\n",
    "        # perform action\n",
    "        next_state, reward, done, _ = env.step(action)\n",
    "\n",
    "        rewards.append(reward)\n",
    "\n",
    "        current_state = next_state\n",
    "\n",
    "    episode_rewards.append(np.sum(rewards))\n",
    "    \n",
    "print('Min = %d   Max = %d   Mean = %0.2f' %(np.min(episode_rewards), np.max(episode_rewards), np.mean(episode_rewards)))\n",
    "\n",
    "if np.min(episode_rewards) > 198:\n",
    "    print('Solved :)')"
   ]
  }
 ],
 "metadata": {
  "kernelspec": {
   "display_name": "Python 3",
   "language": "python",
   "name": "python3"
  },
  "language_info": {
   "codemirror_mode": {
    "name": "ipython",
    "version": 3
   },
   "file_extension": ".py",
   "mimetype": "text/x-python",
   "name": "python",
   "nbconvert_exporter": "python",
   "pygments_lexer": "ipython3",
   "version": "3.6.8"
  }
 },
 "nbformat": 4,
 "nbformat_minor": 2
}

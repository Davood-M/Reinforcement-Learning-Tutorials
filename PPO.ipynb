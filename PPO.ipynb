{
 "cells": [
  {
   "cell_type": "code",
   "execution_count": 1,
   "metadata": {},
   "outputs": [],
   "source": [
    "%matplotlib inline\n",
    "\n",
    "import gym\n",
    "import torch\n",
    "from torch import nn\n",
    "import numpy as np\n",
    "from torch.distributions import Categorical\n",
    "import matplotlib.pyplot as plt"
   ]
  },
  {
   "cell_type": "markdown",
   "metadata": {},
   "source": [
    "## Create Environment using GYM"
   ]
  },
  {
   "cell_type": "code",
   "execution_count": 2,
   "metadata": {},
   "outputs": [
    {
     "name": "stdout",
     "output_type": "stream",
     "text": [
      "Env Created:\n",
      "State Size: 4\tActions Size: 2\n"
     ]
    }
   ],
   "source": [
    "env = gym.make('CartPole-v1')\n",
    "\n",
    "state_space_size = env.observation_space.shape[0]\n",
    "action_space_size = env.action_space.n\n",
    "\n",
    "print('Env Created:\\nState Size: %d\\tActions Size: %d' %(state_space_size, action_space_size))"
   ]
  },
  {
   "cell_type": "markdown",
   "metadata": {},
   "source": [
    "## Create Agent -> A simple policy network"
   ]
  },
  {
   "cell_type": "code",
   "execution_count": 3,
   "metadata": {},
   "outputs": [],
   "source": [
    "class A2CAgent(nn.Module):\n",
    "    def __init__(self, state_size, action_size, hidden_size):\n",
    "        super(A2CAgent, self).__init__()\n",
    "        \n",
    "        # craete network\n",
    "        self.policy_net = nn.Sequential(\n",
    "            nn.Linear(state_size, hidden_size),\n",
    "            nn.ReLU(),\n",
    "            nn.Linear(hidden_size, action_size),\n",
    "            nn.Softmax(dim=1)\n",
    "        )\n",
    "        \n",
    "        self.value_network = nn.Sequential(\n",
    "            nn.Linear(state_size, hidden_size),\n",
    "            nn.ReLU(),\n",
    "            nn.Linear(hidden_size, 1)\n",
    "        )\n",
    "        \n",
    "    def get_action(self, state):\n",
    "        state = torch.tensor([state])\n",
    "        \n",
    "        return Categorical(self.policy_net(state)), self.value_network(state)\n",
    "    \n",
    "    def get_policy_info(self, action, state):\n",
    "        state = torch.tensor([state])\n",
    "        action = torch.tensor([action])\n",
    "        actions_dist = Categorical(self.policy_net(state))\n",
    "        \n",
    "        selected_action_log_prob = actions_dist.log_prob(action)\n",
    "        policy_entropy = actions_dist.entropy()\n",
    "        \n",
    "        state_value = self.value_network(state)\n",
    "        \n",
    "        return selected_action_log_prob, policy_entropy, state_value"
   ]
  },
  {
   "cell_type": "markdown",
   "metadata": {},
   "source": [
    "## Training part\n",
    "\n",
    "Update using the following formula:\n",
    "\n",
    "$L = L^{CLIP} - c_1 (V(s_t) - V^{trgt}) ^ 2 + c_2 S$\n",
    "\n",
    "where $S$ is policy entropy and $V^{trgt}$ can be the advantage. The $L^{CLIP}$ can be calculated using:\n",
    "\n",
    "$L^{CLIP} = min( r_t A_t, clip(r_t, 1-\\epsilon, 1+\\epsilon) A_t )$\n",
    "\n",
    "where $r_t = \\frac{\\pi(a_t|s_t)}{\\pi_{old}(a_t|s_t)}$"
   ]
  },
  {
   "cell_type": "code",
   "execution_count": 9,
   "metadata": {
    "scrolled": true
   },
   "outputs": [
    {
     "name": "stdout",
     "output_type": "stream",
     "text": [
      "[950/1000] Mean Reward = 219.40   Max Reward = 257\t\t\t\r"
     ]
    },
    {
     "data": {
      "image/png": "[encoded data removed]",
      "text/plain": [
       "<Figure size 432x288 with 1 Axes>"
      ]
     },
     "metadata": {
      "needs_background": "light"
     },
     "output_type": "display_data"
    }
   ],
   "source": [
    "GAMMA           = 0.99\n",
    "LR              = 0.001\n",
    "MAX_EPISODES    = 500\n",
    "TERMINAL_TIME   = 400\n",
    "EPSILON_CLIP = 0.2\n",
    "L_MODE = 1\n",
    "\n",
    "agent = A2CAgent(state_space_size, action_space_size, 100).double()\n",
    "agent_old = A2CAgent(state_space_size, action_space_size, 100).double()\n",
    "optimizer = torch.optim.Adam(agent.parameters(), lr=LR)\n",
    "episode_rewards = []\n",
    "\n",
    "agent.train()\n",
    "\n",
    "for episode_no in range(MAX_EPISODES):\n",
    "    rewards = []\n",
    "    action_probs = []\n",
    "    actions = []\n",
    "    state_values = []\n",
    "    states = []\n",
    "    \n",
    "    done = False\n",
    "    current_state = env.reset()\n",
    "    current_time = 0\n",
    "    \n",
    "    # go through an episode\n",
    "    while done != True and current_time != TERMINAL_TIME:\n",
    "        # get action\n",
    "        action_dist, state_value = agent_old.get_action(current_state)\n",
    "        action = action_dist.sample()\n",
    "        \n",
    "        next_state, reward, done, _ = env.step(action.item())\n",
    "        \n",
    "        # save\n",
    "        rewards.append(reward)\n",
    "        actions.append(action)\n",
    "        action_probs.append(action_dist)\n",
    "        state_values.append(state_value)\n",
    "        states.append(current_state)\n",
    "        \n",
    "        # go next\n",
    "        current_state = next_state\n",
    "        current_time += 1\n",
    "    \n",
    "    ## update the agent after an episode or certain amount of time    \n",
    "    # calculate returns and convert to tensor\n",
    "    if done:\n",
    "        R = 0\n",
    "    else:\n",
    "        R = state_value.item()\n",
    "        \n",
    "    returns = []\n",
    "    for t in range(current_time - 1, -1, -1):\n",
    "        R = rewards[t] + GAMMA * R\n",
    "        returns.insert(0, R)\n",
    "    returns = np.array(returns)\n",
    "    returns = torch.tensor([(returns - np.mean(returns)) / (np.std(returns) + 0.0000001)])\n",
    "    \n",
    "    # get action log probabilities\n",
    "    action_probs_old = torch.zeros((1, len(actions))).double()\n",
    "    for i in range(len(actions)):\n",
    "        action_probs_old[0, i] = action_probs[i].log_prob(actions[i]).item()\n",
    "    \n",
    "    # update new agent several times using batche update\n",
    "    for k in range(5):\n",
    "        # get feedbacks on action,state from the game\n",
    "        action_prob, S, state_val = agent.get_policy_info(actions, states)\n",
    "        \n",
    "        # calculate loss\n",
    "        r_t = torch.exp(action_prob - action_probs_old)\n",
    "\n",
    "        # 3 methods for this L -> https://arxiv.org/pdf/1707.06347.pdf\n",
    "        if L_MODE == 1:\n",
    "            L_clip = r_t * (returns - state_val.squeeze(2).detach())\n",
    "        elif L_MODE == 2:\n",
    "            L_clip = torch.min(torch.cat([\n",
    "                r_t * (returns - state_val.squeeze(2).detach()),\n",
    "                torch.clamp(r_t, 1.0 + EPSILON_CLIP, 1.0 - EPSILON_CLIP) * (returns - state_val.squeeze(2).detach())\n",
    "            ]), dim=0).values\n",
    "\n",
    "        # define value loss -> for updating the value network\n",
    "        value_loss = (state_val.squeeze(2) - returns) ** 2\n",
    "        \n",
    "        loss = -(L_clip - 0.5 * value_loss + 0.01 * S)\n",
    "        \n",
    "        # update new agent\n",
    "        optimizer.zero_grad()\n",
    "        loss.mean().backward()\n",
    "        optimizer.step()\n",
    "        \n",
    "    # replace with the old agent\n",
    "    agent_old.load_state_dict(agent.state_dict())\n",
    "        \n",
    "    # print \n",
    "    episode_rewards.append(np.sum(rewards))\n",
    "    \n",
    "    if episode_no % 50 == 0:\n",
    "        print('[%d/%d] Mean Reward = %0.2f   Max Reward = %d\\t\\t\\t' %(episode_no, MAX_EPISODES, np.mean(episode_rewards[-50:]), np.max(episode_rewards[-50:])), end='\\r', flush=True)\n",
    "        \n",
    "# plot each episode's total reward\n",
    "plt.plot(episode_rewards)\n",
    "plt.title('Episodes Rewards')\n",
    "plt.show()"
   ]
  },
  {
   "cell_type": "markdown",
   "metadata": {},
   "source": [
    "## Test the agent"
   ]
  },
  {
   "cell_type": "code",
   "execution_count": 11,
   "metadata": {},
   "outputs": [
    {
     "name": "stdout",
     "output_type": "stream",
     "text": [
      "Total Reward = 362\n"
     ]
    }
   ],
   "source": [
    "agent_old.eval()\n",
    "done = False\n",
    "current_state = env.reset()\n",
    "rewards = []\n",
    "\n",
    "# go through an episode\n",
    "while not done:\n",
    "    # render env\n",
    "    env.render()\n",
    "    \n",
    "    # get BEST action based on the log probabilities -> argmax on them\n",
    "    action_dist, _ = agent_old.get_action(current_state)\n",
    "    log_probs = []\n",
    "    \n",
    "    for i in range(action_space_size):\n",
    "        log_probs.append(action_dist.log_prob(torch.tensor(i)).item())\n",
    "        \n",
    "    # perform action\n",
    "    next_state, reward, done, _ = env.step(np.argmax(log_probs))\n",
    "\n",
    "    rewards.append(reward)\n",
    "    \n",
    "    current_state = next_state\n",
    "    \n",
    "env.close()\n",
    "\n",
    "print('Total Reward = %d' %(np.sum(rewards)))"
   ]
  },
  {
   "cell_type": "code",
   "execution_count": 12,
   "metadata": {},
   "outputs": [
    {
     "name": "stdout",
     "output_type": "stream",
     "text": [
      "Min = 245   Max = 394   Mean = 324.63\n",
      "Solved :)\n"
     ]
    }
   ],
   "source": [
    "# benchmark!\n",
    "agent_old.eval()\n",
    "episode_rewards = []\n",
    "\n",
    "for i in range(100):\n",
    "    done = False\n",
    "    current_state = env.reset()\n",
    "    rewards = []\n",
    "\n",
    "    # go through an episode\n",
    "    while not done:\n",
    "        # get BEST action based on the log probabilities -> argmax on them\n",
    "        action_dist, _ = agent_old.get_action(current_state)\n",
    "        log_probs = []\n",
    "\n",
    "        for i in range(action_space_size):\n",
    "            log_probs.append(action_dist.log_prob(torch.tensor(i)).item())\n",
    "\n",
    "        # perform action\n",
    "        next_state, reward, done, _ = env.step(np.argmax(log_probs))\n",
    "\n",
    "        rewards.append(reward)\n",
    "\n",
    "        current_state = next_state\n",
    "\n",
    "    episode_rewards.append(np.sum(rewards))\n",
    "    \n",
    "print('Min = %d   Max = %d   Mean = %0.2f' %(np.min(episode_rewards), np.max(episode_rewards), np.mean(episode_rewards)))\n",
    "\n",
    "if np.min(episode_rewards) > 198:\n",
    "    print('Solved :)')"
   ]
  }
 ],
 "metadata": {
  "kernelspec": {
   "display_name": "Python 3",
   "language": "python",
   "name": "python3"
  },
  "language_info": {
   "codemirror_mode": {
    "name": "ipython",
    "version": 3
   },
   "file_extension": ".py",
   "mimetype": "text/x-python",
   "name": "python",
   "nbconvert_exporter": "python",
   "pygments_lexer": "ipython3",
   "version": "3.6.8"
  }
 },
 "nbformat": 4,
 "nbformat_minor": 2
}
